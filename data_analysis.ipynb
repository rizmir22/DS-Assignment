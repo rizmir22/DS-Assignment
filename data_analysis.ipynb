{
 "cells": [
  {
   "cell_type": "code",
   "execution_count": 11,
   "metadata": {},
   "outputs": [
    {
     "name": "stdout",
     "output_type": "stream",
     "text": [
      "            Seq No    intnum   persnum       age   educatn  earnings  \\\n",
      "Seq No    1.000000  0.984797 -0.249869 -0.009648 -0.007628 -0.187367   \n",
      "intnum    0.984797  1.000000 -0.245907 -0.020965 -0.008324 -0.188272   \n",
      "persnum  -0.249869 -0.245907  1.000000 -0.069632  0.036979  0.036036   \n",
      "age      -0.009648 -0.020965 -0.069632  1.000000 -0.016220  0.078740   \n",
      "educatn  -0.007628 -0.008324  0.036979 -0.016220  1.000000  0.034733   \n",
      "earnings -0.187367 -0.188272  0.036036  0.078740  0.034733  1.000000   \n",
      "hours    -0.124679 -0.121468  0.015696  0.049826  0.001798  0.635292   \n",
      "kids      0.080143  0.080919  0.123382  0.109390  0.028794 -0.090788   \n",
      "\n",
      "             hours      kids  \n",
      "Seq No   -0.124679  0.080143  \n",
      "intnum   -0.121468  0.080919  \n",
      "persnum   0.015696  0.123382  \n",
      "age       0.049826  0.109390  \n",
      "educatn   0.001798  0.028794  \n",
      "earnings  0.635292 -0.090788  \n",
      "hours     1.000000 -0.084186  \n",
      "kids     -0.084186  1.000000  \n",
      "\n",
      "corelation for age and earnings\n",
      "0.07873975987325779\n",
      "3.927092742408779e-08\n",
      "\n",
      "corelation for hours and earnings\n",
      "0.6352923035063243\n",
      "0.0\n",
      "\n",
      "corelation for kids and earnings\n",
      "-0.09078764977301136\n",
      "2.3276533119474937e-10\n"
     ]
    }
   ],
   "source": [
    "import numpy as np\n",
    "import pandas as pd\n",
    "import matplotlib.pyplot as plt\n",
    "import csv\n",
    "\n",
    "# Reading data locally\n",
    "#df = pd.read_csv('dataSet/processed_PSID.csv')\n",
    "df = pd.read_csv('dataSet/PSID.csv')\n",
    "\n",
    "#corelation matrix\n",
    "print(df.corr())\n",
    "\n",
    "from scipy.stats import pearsonr\n",
    "\n",
    "#relation between age and earnings\n",
    "y = df['earnings']\n",
    "x = df['age']\n",
    "corr, p_value = pearsonr(x, y)\n",
    "\n",
    "print('\\ncorelation for age and earnings')\n",
    "print(corr)\n",
    "print (p_value)\n",
    "\n",
    "\n",
    "\n",
    "#relation between hours and earnings\n",
    "y = df['earnings']\n",
    "x = df['hours']\n",
    "corr, p_value = pearsonr(x, y)\n",
    "\n",
    "print('\\ncorelation for hours and earnings')\n",
    "print(corr)\n",
    "print (p_value)\n",
    "\n",
    "\n",
    "\n",
    "\n",
    "#relation between  kids and earnings\n",
    "y = df['earnings']\n",
    "x = df['kids']\n",
    "corr, p_value = pearsonr(x, y)\n",
    "\n",
    "print('\\ncorelation for kids and earnings')\n",
    "print(corr)\n",
    "print (p_value)\n",
    "\n",
    "\n",
    "\n"
   ]
  },
  {
   "cell_type": "code",
   "execution_count": 16,
   "metadata": {},
   "outputs": [],
   "source": [
    "import numpy as np\n",
    "import pandas as pd\n",
    "import matplotlib.pyplot as plt\n",
    "import csv\n",
    "\n",
    "# Reading data locally\n",
    "#df = pd.read_csv('dataSet/processed_PSID.csv')\n",
    "df = pd.read_csv('dataSet/PSID.csv')"
   ]
  },
  {
   "cell_type": "code",
   "execution_count": null,
   "metadata": {},
   "outputs": [],
   "source": []
  },
  {
   "cell_type": "code",
   "execution_count": 7,
   "metadata": {},
   "outputs": [
    {
     "data": {
      "image/png": "[encoded data removed]",
      "text/plain": [
       "<Figure size 432x288 with 2 Axes>"
      ]
     },
     "metadata": {
      "needs_background": "light"
     },
     "output_type": "display_data"
    }
   ],
   "source": [
    "def correlation_matrix(df):\n",
    "    from matplotlib import pyplot as plt\n",
    "    from matplotlib import cm as cm\n",
    "\n",
    "    fig = plt.figure()\n",
    "    ax1 = fig.add_subplot(111)\n",
    "    cmap = cm.get_cmap('jet', 30)\n",
    "    cax = ax1.imshow(df.corr(), interpolation=\"nearest\", cmap=cmap)\n",
    "    ax1.grid(True)\n",
    "    plt.title(' Correlation matrix ')\n",
    "    labels=['Seq No','intnum','persnum','age','educatn','earnings','hours','kids','married',]\n",
    "    ax1.set_xticklabels(labels,fontsize=6)\n",
    "    ax1.set_yticklabels(labels,fontsize=6)\n",
    "    # Add colorbar, make sure to specify tick locations to match desired ticklabels\n",
    "    fig.colorbar(cax, ticks=[.75,.8,.85,.90,.95,1])\n",
    "    plt.show()\n",
    "\n",
    "correlation_matrix(df)"
   ]
  },
  {
   "cell_type": "code",
   "execution_count": 38,
   "metadata": {},
   "outputs": [
    {
     "name": "stdout",
     "output_type": "stream",
     "text": [
      "\n",
      "corelation for age and earnings\n",
      "0.07873975987325779\n",
      "3.927092742408779e-08\n",
      "\n",
      "corelation for hours and earnings\n",
      "0.6352923035063243\n",
      "0.0\n",
      "\n",
      "corelation for kids and earnings\n",
      "-0.09078764977301136\n",
      "2.3276533119474937e-10\n",
      "\n",
      "corelation for kids and age\n",
      "0.10938961106678614\n",
      "2.1090206856184137e-14\n",
      "\n",
      "corelation for kids and hours\n",
      "-0.0841864298560996\n",
      "4.216869022352501e-09\n"
     ]
    }
   ],
   "source": [
    "from scipy.stats import pearsonr\n",
    "\n",
    "#relation between age and earnings\n",
    "y = df['earnings']\n",
    "x = df['age']\n",
    "corr, p_value = pearsonr(x, y)\n",
    "\n",
    "print('\\ncorelation for age and earnings')\n",
    "print(corr)\n",
    "print (p_value)\n",
    "\n",
    "\n",
    "#relation between hours and earnings\n",
    "y = df['earnings']\n",
    "x = df['hours']\n",
    "corr, p_value = pearsonr(x, y)\n",
    "\n",
    "print('\\ncorelation for hours and earnings')\n",
    "print(corr)\n",
    "print (p_value)\n",
    "\n",
    "\n",
    "#relation between  kids and earnings\n",
    "y = df['earnings']\n",
    "x = df['kids']\n",
    "corr, p_value = pearsonr(x, y)\n",
    "\n",
    "print('\\ncorelation for kids and earnings')\n",
    "print(corr)\n",
    "print (p_value)\n",
    "\n",
    "\n",
    "#relation between  kids and age\n",
    "y = df['kids']\n",
    "x = df['age']\n",
    "corr, p_value = pearsonr(x, y)\n",
    "\n",
    "print('\\ncorelation for kids and age')\n",
    "print(corr)\n",
    "print (p_value)\n",
    "\n",
    "\n",
    "\n",
    "#relation between  kids and hours\n",
    "y = df['kids']\n",
    "x = df['hours']\n",
    "corr, p_value = pearsonr(x, y)\n",
    "\n",
    "print('\\ncorelation for kids and hours')\n",
    "print(corr)\n",
    "print (p_value)\n",
    "\n"
   ]
  },
  {
   "cell_type": "code",
   "execution_count": 31,
   "metadata": {},
   "outputs": [
    {
     "name": "stdout",
     "output_type": "stream",
     "text": [
      "married          3071\n",
      "never married     681\n",
      "divorced          645\n",
      "separated         317\n",
      "widowed            90\n",
      "no histories       43\n",
      "NA/DF               9\n",
      "Name: married, dtype: int64\n"
     ]
    },
    {
     "data": {
      "text/plain": [
       "([<matplotlib.patches.Wedge at 0x7f8209b447b8>,\n",
       "  <matplotlib.patches.Wedge at 0x7f8209b44cc0>,\n",
       "  <matplotlib.patches.Wedge at 0x7f8209b4d1d0>,\n",
       "  <matplotlib.patches.Wedge at 0x7f8209b4d6a0>,\n",
       "  <matplotlib.patches.Wedge at 0x7f8209b4db70>,\n",
       "  <matplotlib.patches.Wedge at 0x7f8209ad6080>,\n",
       "  <matplotlib.patches.Wedge at 0x7f8209ad6550>],\n",
       " [Text(-0.444504562537662, 1.0061886969565907, 'married'),\n",
       "  Text(-0.3232267036097806, -1.051439250776551, 'never married'),\n",
       "  Text(0.5839435102913966, -0.9322070460946763, 'divorced'),\n",
       "  Text(1.0178938415516787, -0.417003749780702, 'separated'),\n",
       "  Text(1.0913475657856209, -0.13769709747776215, 'widowed'),\n",
       "  Text(1.0991435376611396, -0.043399120011299364, 'no histories'),\n",
       "  Text(1.0999813538875614, -0.00640477163430426, 'NA/DF')])"
      ]
     },
     "execution_count": 31,
     "metadata": {},
     "output_type": "execute_result"
    },
    {
     "data": {
      "image/png": "[encoded data removed]",
      "text/plain": [
       "<Figure size 720x720 with 1 Axes>"
      ]
     },
     "metadata": {},
     "output_type": "display_data"
    }
   ],
   "source": [
    "counts = df['married'].value_counts()\n",
    "print(counts)\n",
    "labels = ['married', 'never married', 'divorced', 'separated', 'widowed','no histories','NA/DF']\n",
    "fig, ax = plt.subplots(figsize=(10,10))\n",
    "\n",
    "#colours = ['yellowgreen', 'gold', 'lightskyblue','lightcoral']\n",
    "ax.pie(counts,labels=labels)"
   ]
  },
  {
   "cell_type": "code",
   "execution_count": null,
   "metadata": {},
   "outputs": [],
   "source": []
  },
  {
   "cell_type": "code",
   "execution_count": null,
   "metadata": {},
   "outputs": [],
   "source": []
  }
 ],
 "metadata": {
  "kernelspec": {
   "display_name": "Python 3",
   "language": "python",
   "name": "python3"
  },
  "language_info": {
   "codemirror_mode": {
    "name": "ipython",
    "version": 3
   },
   "file_extension": ".py",
   "mimetype": "text/x-python",
   "name": "python",
   "nbconvert_exporter": "python",
   "pygments_lexer": "ipython3",
   "version": "3.7.1"
  }
 },
 "nbformat": 4,
 "nbformat_minor": 2
}
