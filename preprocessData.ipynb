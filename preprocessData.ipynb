{
 "cells": [
  {
   "cell_type": "code",
   "execution_count": 55,
   "metadata": {
    "scrolled": false
   },
   "outputs": [
    {
     "name": "stdout",
     "output_type": "stream",
     "text": [
      "***************\n",
      "\n",
      "(array([   0,   83,  137,  190,  212,  276,  299,  313,  317,  485,  526,\n",
      "        549,  571,  696,  723,  827,  947,  949,  998, 1024, 1025, 1172,\n",
      "       1258, 1259, 1265, 1376, 1459, 1478, 1617, 1620, 1697, 2064, 2288,\n",
      "       2289, 2472, 2680, 2706, 2753, 2758, 2789, 3207, 3629, 3630, 4286,\n",
      "       4739, 4827]),)\n",
      "[   0   83  137  190  212  276  299  313  317  485  526  549  571  696\n",
      "  723  827  947  949  998 1024 1025 1172 1258 1259 1265 1376 1459 1478\n",
      " 1617 1620 1697 2064 2288 2289 2472 2680 2706 2753 2758 2789 3207 3629\n",
      " 3630 4286 4739 4827]\n",
      "\n",
      "\n"
     ]
    }
   ],
   "source": [
    "import numpy as np\n",
    "import pandas as pd\n",
    "import matplotlib.pyplot as plt\n",
    "import csv\n",
    "\n",
    "# Reading data locally\n",
    "df = pd.read_csv('dataSet/PSID.csv')\n",
    "\n",
    "#get descriptive statistics\n",
    "#################################df.describe()\n",
    "\n",
    "#to remove incomplete data from our DataFrame.\n",
    "df.dropna()\n",
    "###############df.describe()\n",
    "#df['earnings'].plot()\n",
    "#plt.show()\n",
    "\n",
    "#check and view simply using a box plot to see whether there are outliers\n",
    "################plt.show(df['earnings'].plot(kind = 'box'))\n",
    "\n",
    "#use z score method to remove outliers\n",
    "arr = outliers_modified_z_score(df['earnings'])\n",
    "# print (arr)\n",
    "\n",
    "length = df.count\n",
    "#print (length)\n",
    "\n",
    "\n",
    "print('***************\\n')\n",
    "#print(list(df.columns.values))\n",
    "print (arr)\n",
    "\n",
    "for i in arr:\n",
    "    print(i)\n",
    "    print('\\n')\n",
    "\n",
    "    #df = df.drop(df.index[arr[i]])\n",
    "#df\n",
    "\n",
    "# df.to_csv('processed_PSID.csv', sep='\\t')\n",
    "\n",
    "\n"
   ]
  },
  {
   "cell_type": "code",
   "execution_count": 67,
   "metadata": {},
   "outputs": [
    {
     "data": {
      "image/png": "[encoded data removed]",
      "text/plain": [
       "<Figure size 432x288 with 1 Axes>"
      ]
     },
     "metadata": {
      "needs_background": "light"
     },
     "output_type": "display_data"
    }
   ],
   "source": [
    "import numpy as np\n",
    "import pandas as pd\n",
    "import matplotlib.pyplot as plt\n",
    "import csv\n",
    "\n",
    "# Reading data locally\n",
    "df = pd.read_csv('dataSet/PSID.csv')\n",
    "\n",
    "\n",
    "#get descriptive statistics\n",
    "df.describe()\n",
    "\n",
    "#to remove incomplete data from our DataFrame.\n",
    "df.dropna()\n",
    "###############df.describe()\n",
    "#df['earnings'].plot()\n",
    "#plt.show()\n",
    "\n",
    "#check and view simply using a box plot to see whether there are outliers\n",
    "plt.show(df['earnings'].plot(kind = 'box'))\n",
    "\n",
    "#use z score method to remove outliers\n",
    "arr = outliers_modified_z_score(df['earnings'])\n",
    "\n",
    "#remove the outliers from data frame\n",
    "#for i in arr:\n",
    "    #df.drop(df.index[arr[i]])\n",
    "    \n",
    "\n",
    "#export the data into csv\n",
    "#df.to_csv('processed_PSID.csv', sep='\\t')\n",
    "\n"
   ]
  },
  {
   "cell_type": "code",
   "execution_count": 63,
   "metadata": {},
   "outputs": [],
   "source": [
    "#to detect whether there are outliers using z scores method\n",
    "# remove data that z score is less than -3.0 and over +3.0\n",
    "\n",
    "def outliers_modified_z_score(ys):\n",
    "    threshold = 3.5\n",
    "\n",
    "    median_y = np.median(ys)\n",
    "    median_absolute_deviation_y = np.median([np.abs(y - median_y) for y in ys])\n",
    "    modified_z_scores = [0.6745 * (y - median_y) / median_absolute_deviation_y\n",
    "                         for y in ys]\n",
    "    return np.where(np.abs(modified_z_scores) > threshold)\n"
   ]
  },
  {
   "cell_type": "code",
   "execution_count": null,
   "metadata": {},
   "outputs": [],
   "source": []
  }
 ],
 "metadata": {
  "kernelspec": {
   "display_name": "Python 3",
   "language": "python",
   "name": "python3"
  },
  "language_info": {
   "codemirror_mode": {
    "name": "ipython",
    "version": 3
   },
   "file_extension": ".py",
   "mimetype": "text/x-python",
   "name": "python",
   "nbconvert_exporter": "python",
   "pygments_lexer": "ipython3",
   "version": "3.7.1"
  }
 },
 "nbformat": 4,
 "nbformat_minor": 2
}
